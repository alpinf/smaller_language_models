{
  "cells": [
    {
      "cell_type": "markdown",
      "metadata": {
        "id": "KOW4oP9kTOf6"
      },
      "source": [
        "# Vocabulary Trimming of a BERT model\n",
        "\n",
        "This notebook demonstrates reducing the size of a multilingual transformer model by **removing from the vocabulary the tokens that are not part of a target language corpus** (French in this case).\n",
        "\n",
        "The goal is to transform the multilingual model into a smaller, more efficient monolingual model while preserving the original model's accuracy on the target language. The same process can be applied to any corpus, even multilingual, e.g. for domain adaptation.\n",
        "\n",
        "The notebook is based on the methodology described in [_Load What You Need_](https://aclanthology.org/2020.sustainlp-1.16.pdf) and its associated [GitHub repository](https://github.com/Geotrend-research/smaller-transformers), and presents a more detailed description of the process.\n",
        "\n",
        "A complete description of this and other methods for reducing model size is available [here](https://github.com/alpinf/smaller_language_models/blob/main/Smaller_LLMs.md).\n",
        "\n",
        "[![Open In Colab](https://colab.research.google.com/assets/colab-badge.svg)](https://colab.research.google.com/github/alpinf/smaller_language_models/blob/main/notebooks/vocab_trim_mBERT.ipynb)\n"
      ]
    },
    {
      "cell_type": "markdown",
      "metadata": {
        "id": "Yq2H4Qny-U6d"
      },
      "source": [
        "## Setup\n"
      ]
    },
    {
      "cell_type": "code",
      "execution_count": 1,
      "metadata": {
        "id": "HujoMTIg-U6d"
      },
      "outputs": [],
      "source": [
        "import sys\n",
        "if 'google.colab' not in sys.modules:\n",
        "    print(\"Warning: The setup was only tested in Google Colab\")\n",
        "\n",
        "!python -m pip install pandas==2.2.2 torch==2.3.1 transformers==4.41.2 datasets==2.20.0 gdown tqdm --quiet --no-deps"
      ]
    },
    {
      "cell_type": "code",
      "execution_count": 2,
      "metadata": {
        "id": "jYbbzkR5TOgC"
      },
      "outputs": [],
      "source": [
        "import csv\n",
        "import json\n",
        "import os\n",
        "from collections import Counter\n",
        "\n",
        "import gdown\n",
        "import pandas as pd\n",
        "from torch import nn\n",
        "from tqdm.auto import tqdm\n",
        "from transformers import BertModel, BertTokenizer"
      ]
    },
    {
      "cell_type": "markdown",
      "metadata": {
        "id": "6HGiVzk8-U6f"
      },
      "source": [
        "Define the directories where the downloaded data and the model will be saved"
      ]
    },
    {
      "cell_type": "code",
      "execution_count": 3,
      "metadata": {
        "id": "tfppuLp9-U6f"
      },
      "outputs": [],
      "source": [
        "data_dir = \"./data\"\n",
        "out_dir = \"./out\"\n",
        "\n",
        "os.makedirs(data_dir, exist_ok=True)\n",
        "os.makedirs(out_dir, exist_ok=True)"
      ]
    },
    {
      "cell_type": "code",
      "execution_count": 4,
      "metadata": {
        "id": "iuXH9Lwo-U6f"
      },
      "outputs": [],
      "source": [
        "def download_file_from_google_drive(file_id, destination):\n",
        "    \"\"\"\n",
        "    Example usage:\n",
        "    File link on Gdrive: https://drive.google.com/file/d/188r2cctPaqmuXnwer3KBpIHpftnE9tCb/view?usp=drive_link\n",
        "\n",
        "    download_file_from_google_drive(\"188r2cctPaqmuXnwer3KBpIHpftnE9tCb\", \"./data/\")\n",
        "    \"\"\"\n",
        "    try:\n",
        "        url = f\"https://drive.google.com/uc?export=download&id={file_id}\"\n",
        "        gdown.download(url, output=destination, quiet=False)\n",
        "        print(f\"File downloaded from Google Drive to {destination}\")\n",
        "    except Exception as e:\n",
        "        print(f\"Error downloading file: {e}\")\n",
        "        raise e"
      ]
    },
    {
      "cell_type": "markdown",
      "metadata": {
        "id": "RMJ6khoZ-U6g"
      },
      "source": [
        "## Importing the model\n"
      ]
    },
    {
      "cell_type": "code",
      "execution_count": 5,
      "metadata": {
        "colab": {
          "base_uri": "https://localhost:8080/"
        },
        "id": "Lqhai1FUTOgE",
        "outputId": "d6d4a2d7-ebe0-427d-8792-7e1f376d8c43"
      },
      "outputs": [
        {
          "name": "stdout",
          "output_type": "stream",
          "text": [
            "Original model's vocabulary size: 119547\n"
          ]
        }
      ],
      "source": [
        "bert_tokenizer = BertTokenizer.from_pretrained(\n",
        "    \"bert-base-multilingual-cased\"\n",
        ")  # import the original tokenizer\n",
        "bert_vocab = list(bert_tokenizer.vocab.keys())\n",
        "\n",
        "print(f\"Original model's vocabulary size: {len(bert_vocab)}\")  # 119_547"
      ]
    },
    {
      "cell_type": "markdown",
      "metadata": {
        "id": "kiBBq0mcTOgH"
      },
      "source": [
        "## Select vocabulary\n",
        "\n",
        "To select the vocabulary we use the [Leipzig corpora collection](https://wortschatz.uni-leipzig.de/en/download/French), but any corpus in the target language can be used. The data we use is part of the **French _News_** section of 2023 with 1 million sentences.\n",
        "\n",
        "The corpus can be downloaded from the link above. We keep a backup copy on our drive for reproducibility."
      ]
    },
    {
      "cell_type": "markdown",
      "metadata": {
        "id": "TvYZ1-ZB-U6h"
      },
      "source": [
        "First, we tokenized the entire corpus and kept track of the most frequent tokens\n"
      ]
    },
    {
      "cell_type": "code",
      "execution_count": 6,
      "metadata": {
        "colab": {
          "base_uri": "https://localhost:8080/",
          "height": 49,
          "referenced_widgets": [
            "ccbb0a44b6e54a7a80d3b2b61a07d5e5",
            "35559cd1ae2b48c99696bc1d4b730ded",
            "d67e73b6b97c4ce28bad6dd9af971e02",
            "9da93fb6786449ce8726430c67b48a36",
            "8f5c6660bfce4abc91d6737193bc2f11",
            "0ae5eeaf5e0e459b909b28d987972172",
            "d8d11f220eca4bb3ad6edcf3e0912eeb",
            "da25d616f23040c98222e7b87dac50cf",
            "7bf157e1b80e41b59c8df5cadf598fe1",
            "2ef099e99b2e412cb76b27f2734e9038",
            "ae53f9fe94b84d3698e1a09f2551e6bb"
          ]
        },
        "id": "2lAJcTJpTOgH",
        "outputId": "c37701c7-3d40-4ff0-e836-7c16c1c1b127"
      },
      "outputs": [
        {
          "data": {
            "application/vnd.jupyter.widget-view+json": {
              "model_id": "ccbb0a44b6e54a7a80d3b2b61a07d5e5",
              "version_major": 2,
              "version_minor": 0
            },
            "text/plain": [
              "Counting tokens:   0%|          | 0/1000000 [00:00<?, ?it/s]"
            ]
          },
          "metadata": {},
          "output_type": "display_data"
        }
      ],
      "source": [
        "# Download the dataset manually from the link above or use a copy on our drive (134MB)\n",
        "corpus_path = os.path.join(data_dir, \"fra_news_2023_1M-sentences.txt\")\n",
        "if not os.path.exists(corpus_path):\n",
        "    download_file_from_google_drive(\"171RgrkXuWHfY-4BzHR8JEvYp9-D8yPqA\", corpus_path)\n",
        "    print(\"Dataset downloaded from drive\")\n",
        "\n",
        "df_new = pd.read_csv(corpus_path, sep=\"\\t\", header=None, quoting=csv.QUOTE_NONE)\n",
        "df_new.columns = [\"idx\", \"text\"]\n",
        "\n",
        "cnt = Counter()\n",
        "\n",
        "total_tokens = 0\n",
        "for text in tqdm(df_new.text, desc=\"Counting tokens\"):\n",
        "    tokens = bert_tokenizer.encode(text)\n",
        "    cnt.update(tokens)\n",
        "    total_tokens += len(tokens)"
      ]
    },
    {
      "cell_type": "code",
      "execution_count": 7,
      "metadata": {
        "colab": {
          "base_uri": "https://localhost:8080/"
        },
        "id": "2vee-Nkg-U6h",
        "outputId": "41e63894-b8f4-45ff-e94e-d4e55212d5b1"
      },
      "outputs": [
        {
          "name": "stdout",
          "output_type": "stream",
          "text": [
            "Tokens seen in the dataset: 33M\n",
            "Unique tokens in the dataset: 33722\n",
            "These tokens cover 28.2% of the mBERT vocabulary.\n"
          ]
        }
      ],
      "source": [
        "print(f\"Tokens seen in the dataset: {total_tokens / 1_000_000:.0f}M\")\n",
        "print(f\"Unique tokens in the dataset: {len(cnt)}\")\n",
        "print(\n",
        "    f\"These tokens cover {100 * len(cnt) / bert_tokenizer.vocab_size:.1f}% of the mBERT vocabulary.\"\n",
        ")"
      ]
    },
    {
      "cell_type": "markdown",
      "metadata": {
        "id": "Wr7qvblMTOgI"
      },
      "source": [
        "We can decide how many tokens to keep, based on what percentage of the corpus we want to cover"
      ]
    },
    {
      "cell_type": "code",
      "execution_count": 8,
      "metadata": {
        "colab": {
          "base_uri": "https://localhost:8080/"
        },
        "id": "cjspyEGzTOgI",
        "outputId": "8311c0d9-bc22-4de7-d79e-828ac456791d"
      },
      "outputs": [
        {
          "name": "stdout",
          "output_type": "stream",
          "text": [
            "The 1000 most common tokens cover 73.0% of the dataset\n",
            "The 10000 most common tokens cover 97.8% of the dataset\n",
            "The 20000 most common tokens cover 99.8% of the dataset\n",
            "The 23590 most common tokens cover 99.9% of the dataset\n",
            "\n",
            "We will keep 23590 tokens to cover 99.9% of the corpus\n"
          ]
        }
      ],
      "source": [
        "percentage_to_keep = 0.999\n",
        "\n",
        "cum_sum = 0\n",
        "for i, (token_id, v) in enumerate(cnt.most_common()):\n",
        "    cum_sum += v\n",
        "    if cum_sum / sum(cnt.values()) > percentage_to_keep:\n",
        "        break\n",
        "    num_tokens = i + 1  # the number of tokens to keep\n",
        "\n",
        "for top in 1_000, 10_000, 20_000, num_tokens:\n",
        "    print(\n",
        "        f\"The {top} most common tokens cover {100 * sum(v for k, v in cnt.most_common(top)) / sum(cnt.values()):.1f}% of the dataset\"\n",
        "    )\n",
        "\n",
        "print(\n",
        "    f\"\\nWe will keep {num_tokens} tokens to cover {percentage_to_keep * 100}% of the corpus\"\n",
        ")"
      ]
    },
    {
      "cell_type": "markdown",
      "metadata": {
        "id": "gu4LpmvNTOgJ"
      },
      "source": [
        "The first 103 tokens of the vocabulary are the 4 special tokens (`[PAD]`, `[UNK]`, `[CLS]`, `[SEP]`) and 99 _unused_ tokens that can be used for different purposes (`[unused1]`, `[unused2]`, ..., `[unused99]`), like introducing specific words to the fine-tuning procedure.\n",
        "\n",
        "We wish to keep them in the vocabulary, so we start the vocabulary with the first 103 tokens.\n"
      ]
    },
    {
      "cell_type": "code",
      "execution_count": 9,
      "metadata": {
        "colab": {
          "base_uri": "https://localhost:8080/"
        },
        "id": "B6HavOYcTOgJ",
        "outputId": "ceed07df-cfad-4ff9-efc4-326c9b0d628d"
      },
      "outputs": [
        {
          "name": "stdout",
          "output_type": "stream",
          "text": [
            "Total number of tokens including special tokens: 23690\n"
          ]
        }
      ],
      "source": [
        "new_token_ids = set(\n",
        "    range(103)\n",
        ")  # the first 4 + 99 tokens are reserved for special tokens\n",
        "for _, (token_id, _) in enumerate(cnt.most_common(num_tokens)):\n",
        "    if token_id >= 103:\n",
        "        new_token_ids.add(token_id)\n",
        "\n",
        "new_token_ids = sorted(list(new_token_ids))\n",
        "print(f\"Total number of tokens including special tokens: {len(new_token_ids)}\")"
      ]
    },
    {
      "cell_type": "markdown",
      "metadata": {
        "id": "yxqX5LA3TOgK"
      },
      "source": [
        "Let's look at some of the tokens of the new vocabulary\n"
      ]
    },
    {
      "cell_type": "code",
      "execution_count": 10,
      "metadata": {
        "colab": {
          "base_uri": "https://localhost:8080/"
        },
        "id": "ep-SK9N2TOgL",
        "outputId": "08fcae55-c0a6-4bc9-e99a-cf133fc19453"
      },
      "outputs": [
        {
          "name": "stdout",
          "output_type": "stream",
          "text": [
            "First 5 tokens:\n",
            "0: [PAD]\n",
            "1: [unused1]\n",
            "2: [unused2]\n",
            "3: [unused3]\n",
            "4: [unused4]\n",
            "\n",
            "Last 5 tokens:\n",
            "23685: ##œ\n",
            "23686: ##Š\n",
            "23687: ##⁄\n",
            "23688: ##€\n",
            "23689: ##™\n"
          ]
        }
      ],
      "source": [
        "selected_tokens = bert_tokenizer.convert_ids_to_tokens(new_token_ids)\n",
        "n = 5\n",
        "\n",
        "print(f\"First {n} tokens:\")\n",
        "for i in range(n):\n",
        "    print(f\"{i}: {selected_tokens[i]}\")\n",
        "\n",
        "print(f\"\\nLast {n} tokens:\")\n",
        "for i in range(len(selected_tokens) - n, len(selected_tokens)):\n",
        "    print(f\"{i}: {selected_tokens[i]}\")"
      ]
    },
    {
      "cell_type": "markdown",
      "metadata": {
        "id": "Kx3qZKUGTOgL"
      },
      "source": [
        "## Resize the embeddings and create a new model\n",
        "\n",
        "We now update the embeddings matrix to match the new vocabulary size, by removing the embeddings of the tokens that are no longer part of the vocabulary.\n",
        "The function `update_model` below updates the embedding matrix by keeping only the entries (rows) that appear in the new vocabulary.\n",
        "\n",
        "This creates a smaller matrix where the number of rows is the size of the new vocabulary. The number of columns is the size of the embedding space, whose dimension remains unchanged."
      ]
    },
    {
      "cell_type": "code",
      "execution_count": 11,
      "metadata": {
        "id": "R3EbFt_0TOgM"
      },
      "outputs": [],
      "source": [
        "def update_model(model, old_vocab, new_vocab, new_model_name=\"new_model\"):\n",
        "\n",
        "    new_model_path = os.path.join(out_dir, new_model_name)\n",
        "\n",
        "    # Get old embeddings from model\n",
        "    old_embeddings = model.get_input_embeddings()\n",
        "    old_num_tokens, old_embedding_dim = old_embeddings.weight.size()\n",
        "\n",
        "    if old_num_tokens != len(old_vocab):\n",
        "        print(\"len(old_vocab) != len(model.old_embeddings), no modifying the model\")\n",
        "        return old_embeddings\n",
        "\n",
        "    if new_vocab is None:\n",
        "        print(\"No new vocab provided, not modifying the model\")\n",
        "        return old_embeddings\n",
        "    new_num_tokens = len(new_vocab)\n",
        "\n",
        "    # Build new embeddings\n",
        "    new_embeddings = nn.Embedding(new_num_tokens, old_embedding_dim)\n",
        "    new_embeddings.to(old_embeddings.weight.device)\n",
        "\n",
        "    # Copy weights\n",
        "    i, j = 0, 0\n",
        "    vocab = []\n",
        "    for token in old_vocab:\n",
        "        if token in new_vocab:\n",
        "            vocab.append(token)\n",
        "            new_embeddings.weight.data[i, :] = old_embeddings.weight.data[j, :]\n",
        "            i += 1\n",
        "        j += 1\n",
        "\n",
        "    model.set_input_embeddings(new_embeddings)\n",
        "\n",
        "    # Update base model and current model config\n",
        "    model.config.vocab_size = new_num_tokens\n",
        "    model.vocab_size = new_num_tokens\n",
        "\n",
        "    # Tie weights\n",
        "    model.tie_weights()\n",
        "\n",
        "    # Save the new model\n",
        "    print(\"Updated model:\", new_model_name)\n",
        "    print(\"Number of parameters: \", model.num_parameters())\n",
        "    print(\"Vocabulary size:\", len(vocab))\n",
        "    model.save_pretrained(new_model_path)\n",
        "\n",
        "    # Save vocab\n",
        "    with open(os.path.join(new_model_path, \"vocab.txt\"), \"w\", encoding=\"utf-8\") as w:\n",
        "        for token in vocab:\n",
        "            w.write(token + \"\\n\")\n",
        "\n",
        "    # Save tokenizer config\n",
        "    with open(os.path.join(new_model_path, \"tokenizer_config.json\"), \"w\") as w:\n",
        "        json.dump({\"do_lower_case\": False, \"model_max_length\": 512}, w)"
      ]
    },
    {
      "cell_type": "markdown",
      "metadata": {
        "id": "hiYxUaFKTOgM"
      },
      "source": [
        "Creating the New model\n"
      ]
    },
    {
      "cell_type": "code",
      "execution_count": 12,
      "metadata": {
        "colab": {
          "base_uri": "https://localhost:8080/",
          "height": 101,
          "referenced_widgets": [
            "95211b94820c4eba9370333790508775",
            "b78f70a490ff4ac195f56dd6e5c03b00",
            "48c3ff7dfd694fd1b2bec33058286fef",
            "10866ec534ea43b2b1a7a73e17b762e0",
            "13698a11b5b041c984c7ee48ce1afb97",
            "26718bb67be84b21bdc3af1b139025fd",
            "556bf65f076d4632860295c7ef3415d2",
            "ad11dcc07eac40809879a381515f2e69",
            "bde4cc29162b4d1ca7524313dffa2862",
            "cf2a5329dcd54af99cb9c1aeb519d7be",
            "f1680ba7d2cf40b4bf616e2760534008"
          ]
        },
        "id": "QKHSA218TOgM",
        "outputId": "c001e5d3-7cc1-4bbb-94d6-8a60a25bdcd9"
      },
      "outputs": [
        {
          "data": {
            "application/vnd.jupyter.widget-view+json": {
              "model_id": "95211b94820c4eba9370333790508775",
              "version_major": 2,
              "version_minor": 0
            },
            "text/plain": [
              "model.safetensors:   0%|          | 0.00/714M [00:00<?, ?B/s]"
            ]
          },
          "metadata": {},
          "output_type": "display_data"
        },
        {
          "name": "stdout",
          "output_type": "stream",
          "text": [
            "Updated model: bert-base-fr-cased\n",
            "Number of parameters:  104235264\n",
            "Vocabulary size: 23690\n"
          ]
        }
      ],
      "source": [
        "new_model_name = \"bert-base-fr-cased\"\n",
        "update_model(\n",
        "    BertModel.from_pretrained(\"bert-base-multilingual-cased\"),\n",
        "    bert_vocab,\n",
        "    selected_tokens,\n",
        "    new_model_name=new_model_name,\n",
        ")"
      ]
    },
    {
      "cell_type": "markdown",
      "metadata": {
        "id": "rHMkcROwTOgN"
      },
      "source": [
        "## Compare the original & trimmed models\n"
      ]
    },
    {
      "cell_type": "code",
      "execution_count": 13,
      "metadata": {
        "colab": {
          "base_uri": "https://localhost:8080/"
        },
        "id": "M1HiH1JYTOgN",
        "outputId": "36c7cece-872e-480c-f864-b0b022e8db6d"
      },
      "outputs": [
        {
          "name": "stdout",
          "output_type": "stream",
          "text": [
            "Original model has\t178M parameters\n",
            "Original model has\t120k tokens in the vocabulary\n",
            "New model has\t\t104M parameters\n",
            "New model has\t\t24k tokens in the vocabulary\n",
            "\n",
            "New model's number of parameters is 59% of the original model\n"
          ]
        }
      ],
      "source": [
        "# original model\n",
        "bert_model = BertModel.from_pretrained(\"bert-base-multilingual-cased\")\n",
        "bert_tokenizer = BertTokenizer.from_pretrained(\"bert-base-multilingual-cased\")\n",
        "print(\n",
        "    f\"Original model has\\t{bert_model.num_parameters() / 1e6:.0f}M parameters\"\n",
        ")  # 177_854_978\n",
        "print(\n",
        "    f\"Original model has\\t{bert_model.config.vocab_size / 1e3:.0f}k tokens in the vocabulary\"\n",
        ")  # 119_547\n",
        "\n",
        "# new model\n",
        "new_tokenizer = BertTokenizer.from_pretrained(os.path.join(out_dir, new_model_name))\n",
        "new_model = BertModel.from_pretrained(os.path.join(out_dir, new_model_name))\n",
        "print(\n",
        "    f\"New model has\\t\\t{new_model.num_parameters() / 1e6:.0f}M parameters\"\n",
        ")  # 96_454_656\n",
        "print(\n",
        "    f\"New model has\\t\\t{new_model.config.vocab_size / 1e3:.0f}k tokens in the vocabulary\"\n",
        ")\n",
        "print(\n",
        "    f\"\\nNew model's number of parameters is {new_model.num_parameters() / bert_model.num_parameters() * 100:.0f}% of the original model's\"\n",
        ")"
      ]
    },
    {
      "cell_type": "markdown",
      "metadata": {
        "id": "j6T_fAvlTOgS"
      },
      "source": [
        "Let's tokenize the same sentence with the original and the new model\n"
      ]
    },
    {
      "cell_type": "code",
      "execution_count": 14,
      "metadata": {
        "colab": {
          "base_uri": "https://localhost:8080/"
        },
        "id": "24n3rJQqTOgS",
        "outputId": "de25ce80-74fe-420a-d9f2-77f5209ee805"
      },
      "outputs": [
        {
          "name": "stdout",
          "output_type": "stream",
          "text": [
            "['This', 'is', 'an', 'example', 'of', 'a', 'Engl', '##ish', 'sentence', '.']\n",
            "['This', 'is', 'an', 'ex', '##amp', '##le', 'of', 'a', 'Engl', '##ish', 'sentence', '.']\n",
            "\n",
            "['Ceci', 'est', 'un', 'exemple', 'de', 'phrase', 'en', 'français', '.']\n",
            "['Ceci', 'est', 'un', 'exemple', 'de', 'phrase', 'en', 'français', '.']\n"
          ]
        }
      ],
      "source": [
        "text = \"This is an example of a English sentence.\"\n",
        "print(bert_tokenizer.tokenize(text))\n",
        "print(new_tokenizer.tokenize(text))\n",
        "print()\n",
        "\n",
        "text = \"Ceci est un exemple de phrase en français.\"\n",
        "print(bert_tokenizer.tokenize(text))\n",
        "print(new_tokenizer.tokenize(text))"
      ]
    },
    {
      "cell_type": "markdown",
      "metadata": {
        "id": "uyzPL_Av-U6j"
      },
      "source": [
        "We can see that while embedding the **English sentence**, there are some differences between the two tokenizers, since not all of the _English_ tokens have been retained.\n",
        "\n",
        "On the other hand, when we encode the **French sentence**, the embeddings are the same, as all of the _French_ tokens have been retained."
      ]
    },
    {
      "cell_type": "markdown",
      "metadata": {
        "id": "dk62WWut-U6j"
      },
      "source": [
        "## Fine-tuning on sentiment analysis & results\n",
        "\n",
        "We fine-tuned both models on the French path of [tyqiangz/multilingual-sentiments](https://huggingface.co/datasets/tyqiangz/multilingual-sentiments), a multilingual  sentiment analysis dataset.\n",
        "\n",
        "Hyper-parameters:\n",
        "\n",
        "- `learning_rate=2e-5`\n",
        "- `per_device_train_batch_size=64`\n",
        "- `num_train_epochs=10`\n",
        "- `weight_decay=0.01`\n",
        "- `eval_strategy=\"steps\"`\n",
        "\n",
        "We applied early stopping on the validation accuracy, with a patience of 3.\n",
        "\n",
        "The fine-tuning procedure is shown in the following notebook: [mBERT classification fine-tuning](https://colab.research.google.com/github/alpinf/smaller_llms/blob/main/notebooks/classification_fine_tuning_mBERT.ipynb)."
      ]
    },
    {
      "cell_type": "markdown",
      "metadata": {
        "id": "DDvGXnSW-U6j"
      },
      "source": [
        "The accuracy scores we got were:\n",
        "\n",
        "- **mBERT: 69.4%**\n",
        "- **frBERT: 69.9%**\n",
        "\n",
        "We see no drop in accuracy when using the vocabulary-trimmed model, with a model that's **41%** smaller in terms of the number of parameters compared to the original mBERT model."
      ]
    }
  ],
  "metadata": {
    "accelerator": "GPU",
    "colab": {
      "gpuType": "T4",
      "provenance": []
    },
    "kernelspec": {
      "display_name": "Python 3",
      "name": "python3"
    },
    "language_info": {
      "codemirror_mode": {
        "name": "ipython",
        "version": 3
      },
      "file_extension": ".py",
      "mimetype": "text/x-python",
      "name": "python",
      "nbconvert_exporter": "python",
      "pygments_lexer": "ipython3",
      "version": "3.11.9"
    },
    "widgets": {
      "application/vnd.jupyter.widget-state+json": {
        "0ae5eeaf5e0e459b909b28d987972172": {
          "model_module": "@jupyter-widgets/base",
          "model_module_version": "1.2.0",
          "model_name": "LayoutModel",
          "state": {
            "_model_module": "@jupyter-widgets/base",
            "_model_module_version": "1.2.0",
            "_model_name": "LayoutModel",
            "_view_count": null,
            "_view_module": "@jupyter-widgets/base",
            "_view_module_version": "1.2.0",
            "_view_name": "LayoutView",
            "align_content": null,
            "align_items": null,
            "align_self": null,
            "border": null,
            "bottom": null,
            "display": null,
            "flex": null,
            "flex_flow": null,
            "grid_area": null,
            "grid_auto_columns": null,
            "grid_auto_flow": null,
            "grid_auto_rows": null,
            "grid_column": null,
            "grid_gap": null,
            "grid_row": null,
            "grid_template_areas": null,
            "grid_template_columns": null,
            "grid_template_rows": null,
            "height": null,
            "justify_content": null,
            "justify_items": null,
            "left": null,
            "margin": null,
            "max_height": null,
            "max_width": null,
            "min_height": null,
            "min_width": null,
            "object_fit": null,
            "object_position": null,
            "order": null,
            "overflow": null,
            "overflow_x": null,
            "overflow_y": null,
            "padding": null,
            "right": null,
            "top": null,
            "visibility": null,
            "width": null
          }
        },
        "10866ec534ea43b2b1a7a73e17b762e0": {
          "model_module": "@jupyter-widgets/controls",
          "model_module_version": "1.5.0",
          "model_name": "HTMLModel",
          "state": {
            "_dom_classes": [],
            "_model_module": "@jupyter-widgets/controls",
            "_model_module_version": "1.5.0",
            "_model_name": "HTMLModel",
            "_view_count": null,
            "_view_module": "@jupyter-widgets/controls",
            "_view_module_version": "1.5.0",
            "_view_name": "HTMLView",
            "description": "",
            "description_tooltip": null,
            "layout": "IPY_MODEL_cf2a5329dcd54af99cb9c1aeb519d7be",
            "placeholder": "​",
            "style": "IPY_MODEL_f1680ba7d2cf40b4bf616e2760534008",
            "value": " 714M/714M [00:03&lt;00:00, 246MB/s]"
          }
        },
        "13698a11b5b041c984c7ee48ce1afb97": {
          "model_module": "@jupyter-widgets/base",
          "model_module_version": "1.2.0",
          "model_name": "LayoutModel",
          "state": {
            "_model_module": "@jupyter-widgets/base",
            "_model_module_version": "1.2.0",
            "_model_name": "LayoutModel",
            "_view_count": null,
            "_view_module": "@jupyter-widgets/base",
            "_view_module_version": "1.2.0",
            "_view_name": "LayoutView",
            "align_content": null,
            "align_items": null,
            "align_self": null,
            "border": null,
            "bottom": null,
            "display": null,
            "flex": null,
            "flex_flow": null,
            "grid_area": null,
            "grid_auto_columns": null,
            "grid_auto_flow": null,
            "grid_auto_rows": null,
            "grid_column": null,
            "grid_gap": null,
            "grid_row": null,
            "grid_template_areas": null,
            "grid_template_columns": null,
            "grid_template_rows": null,
            "height": null,
            "justify_content": null,
            "justify_items": null,
            "left": null,
            "margin": null,
            "max_height": null,
            "max_width": null,
            "min_height": null,
            "min_width": null,
            "object_fit": null,
            "object_position": null,
            "order": null,
            "overflow": null,
            "overflow_x": null,
            "overflow_y": null,
            "padding": null,
            "right": null,
            "top": null,
            "visibility": null,
            "width": null
          }
        },
        "26718bb67be84b21bdc3af1b139025fd": {
          "model_module": "@jupyter-widgets/base",
          "model_module_version": "1.2.0",
          "model_name": "LayoutModel",
          "state": {
            "_model_module": "@jupyter-widgets/base",
            "_model_module_version": "1.2.0",
            "_model_name": "LayoutModel",
            "_view_count": null,
            "_view_module": "@jupyter-widgets/base",
            "_view_module_version": "1.2.0",
            "_view_name": "LayoutView",
            "align_content": null,
            "align_items": null,
            "align_self": null,
            "border": null,
            "bottom": null,
            "display": null,
            "flex": null,
            "flex_flow": null,
            "grid_area": null,
            "grid_auto_columns": null,
            "grid_auto_flow": null,
            "grid_auto_rows": null,
            "grid_column": null,
            "grid_gap": null,
            "grid_row": null,
            "grid_template_areas": null,
            "grid_template_columns": null,
            "grid_template_rows": null,
            "height": null,
            "justify_content": null,
            "justify_items": null,
            "left": null,
            "margin": null,
            "max_height": null,
            "max_width": null,
            "min_height": null,
            "min_width": null,
            "object_fit": null,
            "object_position": null,
            "order": null,
            "overflow": null,
            "overflow_x": null,
            "overflow_y": null,
            "padding": null,
            "right": null,
            "top": null,
            "visibility": null,
            "width": null
          }
        },
        "2ef099e99b2e412cb76b27f2734e9038": {
          "model_module": "@jupyter-widgets/base",
          "model_module_version": "1.2.0",
          "model_name": "LayoutModel",
          "state": {
            "_model_module": "@jupyter-widgets/base",
            "_model_module_version": "1.2.0",
            "_model_name": "LayoutModel",
            "_view_count": null,
            "_view_module": "@jupyter-widgets/base",
            "_view_module_version": "1.2.0",
            "_view_name": "LayoutView",
            "align_content": null,
            "align_items": null,
            "align_self": null,
            "border": null,
            "bottom": null,
            "display": null,
            "flex": null,
            "flex_flow": null,
            "grid_area": null,
            "grid_auto_columns": null,
            "grid_auto_flow": null,
            "grid_auto_rows": null,
            "grid_column": null,
            "grid_gap": null,
            "grid_row": null,
            "grid_template_areas": null,
            "grid_template_columns": null,
            "grid_template_rows": null,
            "height": null,
            "justify_content": null,
            "justify_items": null,
            "left": null,
            "margin": null,
            "max_height": null,
            "max_width": null,
            "min_height": null,
            "min_width": null,
            "object_fit": null,
            "object_position": null,
            "order": null,
            "overflow": null,
            "overflow_x": null,
            "overflow_y": null,
            "padding": null,
            "right": null,
            "top": null,
            "visibility": null,
            "width": null
          }
        },
        "35559cd1ae2b48c99696bc1d4b730ded": {
          "model_module": "@jupyter-widgets/controls",
          "model_module_version": "1.5.0",
          "model_name": "HTMLModel",
          "state": {
            "_dom_classes": [],
            "_model_module": "@jupyter-widgets/controls",
            "_model_module_version": "1.5.0",
            "_model_name": "HTMLModel",
            "_view_count": null,
            "_view_module": "@jupyter-widgets/controls",
            "_view_module_version": "1.5.0",
            "_view_name": "HTMLView",
            "description": "",
            "description_tooltip": null,
            "layout": "IPY_MODEL_0ae5eeaf5e0e459b909b28d987972172",
            "placeholder": "​",
            "style": "IPY_MODEL_d8d11f220eca4bb3ad6edcf3e0912eeb",
            "value": "Counting tokens: 100%"
          }
        },
        "48c3ff7dfd694fd1b2bec33058286fef": {
          "model_module": "@jupyter-widgets/controls",
          "model_module_version": "1.5.0",
          "model_name": "FloatProgressModel",
          "state": {
            "_dom_classes": [],
            "_model_module": "@jupyter-widgets/controls",
            "_model_module_version": "1.5.0",
            "_model_name": "FloatProgressModel",
            "_view_count": null,
            "_view_module": "@jupyter-widgets/controls",
            "_view_module_version": "1.5.0",
            "_view_name": "ProgressView",
            "bar_style": "success",
            "description": "",
            "description_tooltip": null,
            "layout": "IPY_MODEL_ad11dcc07eac40809879a381515f2e69",
            "max": 714290682,
            "min": 0,
            "orientation": "horizontal",
            "style": "IPY_MODEL_bde4cc29162b4d1ca7524313dffa2862",
            "value": 714290682
          }
        },
        "556bf65f076d4632860295c7ef3415d2": {
          "model_module": "@jupyter-widgets/controls",
          "model_module_version": "1.5.0",
          "model_name": "DescriptionStyleModel",
          "state": {
            "_model_module": "@jupyter-widgets/controls",
            "_model_module_version": "1.5.0",
            "_model_name": "DescriptionStyleModel",
            "_view_count": null,
            "_view_module": "@jupyter-widgets/base",
            "_view_module_version": "1.2.0",
            "_view_name": "StyleView",
            "description_width": ""
          }
        },
        "7bf157e1b80e41b59c8df5cadf598fe1": {
          "model_module": "@jupyter-widgets/controls",
          "model_module_version": "1.5.0",
          "model_name": "ProgressStyleModel",
          "state": {
            "_model_module": "@jupyter-widgets/controls",
            "_model_module_version": "1.5.0",
            "_model_name": "ProgressStyleModel",
            "_view_count": null,
            "_view_module": "@jupyter-widgets/base",
            "_view_module_version": "1.2.0",
            "_view_name": "StyleView",
            "bar_color": null,
            "description_width": ""
          }
        },
        "8f5c6660bfce4abc91d6737193bc2f11": {
          "model_module": "@jupyter-widgets/base",
          "model_module_version": "1.2.0",
          "model_name": "LayoutModel",
          "state": {
            "_model_module": "@jupyter-widgets/base",
            "_model_module_version": "1.2.0",
            "_model_name": "LayoutModel",
            "_view_count": null,
            "_view_module": "@jupyter-widgets/base",
            "_view_module_version": "1.2.0",
            "_view_name": "LayoutView",
            "align_content": null,
            "align_items": null,
            "align_self": null,
            "border": null,
            "bottom": null,
            "display": null,
            "flex": null,
            "flex_flow": null,
            "grid_area": null,
            "grid_auto_columns": null,
            "grid_auto_flow": null,
            "grid_auto_rows": null,
            "grid_column": null,
            "grid_gap": null,
            "grid_row": null,
            "grid_template_areas": null,
            "grid_template_columns": null,
            "grid_template_rows": null,
            "height": null,
            "justify_content": null,
            "justify_items": null,
            "left": null,
            "margin": null,
            "max_height": null,
            "max_width": null,
            "min_height": null,
            "min_width": null,
            "object_fit": null,
            "object_position": null,
            "order": null,
            "overflow": null,
            "overflow_x": null,
            "overflow_y": null,
            "padding": null,
            "right": null,
            "top": null,
            "visibility": null,
            "width": null
          }
        },
        "95211b94820c4eba9370333790508775": {
          "model_module": "@jupyter-widgets/controls",
          "model_module_version": "1.5.0",
          "model_name": "HBoxModel",
          "state": {
            "_dom_classes": [],
            "_model_module": "@jupyter-widgets/controls",
            "_model_module_version": "1.5.0",
            "_model_name": "HBoxModel",
            "_view_count": null,
            "_view_module": "@jupyter-widgets/controls",
            "_view_module_version": "1.5.0",
            "_view_name": "HBoxView",
            "box_style": "",
            "children": [
              "IPY_MODEL_b78f70a490ff4ac195f56dd6e5c03b00",
              "IPY_MODEL_48c3ff7dfd694fd1b2bec33058286fef",
              "IPY_MODEL_10866ec534ea43b2b1a7a73e17b762e0"
            ],
            "layout": "IPY_MODEL_13698a11b5b041c984c7ee48ce1afb97"
          }
        },
        "9da93fb6786449ce8726430c67b48a36": {
          "model_module": "@jupyter-widgets/controls",
          "model_module_version": "1.5.0",
          "model_name": "HTMLModel",
          "state": {
            "_dom_classes": [],
            "_model_module": "@jupyter-widgets/controls",
            "_model_module_version": "1.5.0",
            "_model_name": "HTMLModel",
            "_view_count": null,
            "_view_module": "@jupyter-widgets/controls",
            "_view_module_version": "1.5.0",
            "_view_name": "HTMLView",
            "description": "",
            "description_tooltip": null,
            "layout": "IPY_MODEL_2ef099e99b2e412cb76b27f2734e9038",
            "placeholder": "​",
            "style": "IPY_MODEL_ae53f9fe94b84d3698e1a09f2551e6bb",
            "value": " 1000000/1000000 [09:34&lt;00:00, 2335.21it/s]"
          }
        },
        "ad11dcc07eac40809879a381515f2e69": {
          "model_module": "@jupyter-widgets/base",
          "model_module_version": "1.2.0",
          "model_name": "LayoutModel",
          "state": {
            "_model_module": "@jupyter-widgets/base",
            "_model_module_version": "1.2.0",
            "_model_name": "LayoutModel",
            "_view_count": null,
            "_view_module": "@jupyter-widgets/base",
            "_view_module_version": "1.2.0",
            "_view_name": "LayoutView",
            "align_content": null,
            "align_items": null,
            "align_self": null,
            "border": null,
            "bottom": null,
            "display": null,
            "flex": null,
            "flex_flow": null,
            "grid_area": null,
            "grid_auto_columns": null,
            "grid_auto_flow": null,
            "grid_auto_rows": null,
            "grid_column": null,
            "grid_gap": null,
            "grid_row": null,
            "grid_template_areas": null,
            "grid_template_columns": null,
            "grid_template_rows": null,
            "height": null,
            "justify_content": null,
            "justify_items": null,
            "left": null,
            "margin": null,
            "max_height": null,
            "max_width": null,
            "min_height": null,
            "min_width": null,
            "object_fit": null,
            "object_position": null,
            "order": null,
            "overflow": null,
            "overflow_x": null,
            "overflow_y": null,
            "padding": null,
            "right": null,
            "top": null,
            "visibility": null,
            "width": null
          }
        },
        "ae53f9fe94b84d3698e1a09f2551e6bb": {
          "model_module": "@jupyter-widgets/controls",
          "model_module_version": "1.5.0",
          "model_name": "DescriptionStyleModel",
          "state": {
            "_model_module": "@jupyter-widgets/controls",
            "_model_module_version": "1.5.0",
            "_model_name": "DescriptionStyleModel",
            "_view_count": null,
            "_view_module": "@jupyter-widgets/base",
            "_view_module_version": "1.2.0",
            "_view_name": "StyleView",
            "description_width": ""
          }
        },
        "b78f70a490ff4ac195f56dd6e5c03b00": {
          "model_module": "@jupyter-widgets/controls",
          "model_module_version": "1.5.0",
          "model_name": "HTMLModel",
          "state": {
            "_dom_classes": [],
            "_model_module": "@jupyter-widgets/controls",
            "_model_module_version": "1.5.0",
            "_model_name": "HTMLModel",
            "_view_count": null,
            "_view_module": "@jupyter-widgets/controls",
            "_view_module_version": "1.5.0",
            "_view_name": "HTMLView",
            "description": "",
            "description_tooltip": null,
            "layout": "IPY_MODEL_26718bb67be84b21bdc3af1b139025fd",
            "placeholder": "​",
            "style": "IPY_MODEL_556bf65f076d4632860295c7ef3415d2",
            "value": "model.safetensors: 100%"
          }
        },
        "bde4cc29162b4d1ca7524313dffa2862": {
          "model_module": "@jupyter-widgets/controls",
          "model_module_version": "1.5.0",
          "model_name": "ProgressStyleModel",
          "state": {
            "_model_module": "@jupyter-widgets/controls",
            "_model_module_version": "1.5.0",
            "_model_name": "ProgressStyleModel",
            "_view_count": null,
            "_view_module": "@jupyter-widgets/base",
            "_view_module_version": "1.2.0",
            "_view_name": "StyleView",
            "bar_color": null,
            "description_width": ""
          }
        },
        "ccbb0a44b6e54a7a80d3b2b61a07d5e5": {
          "model_module": "@jupyter-widgets/controls",
          "model_module_version": "1.5.0",
          "model_name": "HBoxModel",
          "state": {
            "_dom_classes": [],
            "_model_module": "@jupyter-widgets/controls",
            "_model_module_version": "1.5.0",
            "_model_name": "HBoxModel",
            "_view_count": null,
            "_view_module": "@jupyter-widgets/controls",
            "_view_module_version": "1.5.0",
            "_view_name": "HBoxView",
            "box_style": "",
            "children": [
              "IPY_MODEL_35559cd1ae2b48c99696bc1d4b730ded",
              "IPY_MODEL_d67e73b6b97c4ce28bad6dd9af971e02",
              "IPY_MODEL_9da93fb6786449ce8726430c67b48a36"
            ],
            "layout": "IPY_MODEL_8f5c6660bfce4abc91d6737193bc2f11"
          }
        },
        "cf2a5329dcd54af99cb9c1aeb519d7be": {
          "model_module": "@jupyter-widgets/base",
          "model_module_version": "1.2.0",
          "model_name": "LayoutModel",
          "state": {
            "_model_module": "@jupyter-widgets/base",
            "_model_module_version": "1.2.0",
            "_model_name": "LayoutModel",
            "_view_count": null,
            "_view_module": "@jupyter-widgets/base",
            "_view_module_version": "1.2.0",
            "_view_name": "LayoutView",
            "align_content": null,
            "align_items": null,
            "align_self": null,
            "border": null,
            "bottom": null,
            "display": null,
            "flex": null,
            "flex_flow": null,
            "grid_area": null,
            "grid_auto_columns": null,
            "grid_auto_flow": null,
            "grid_auto_rows": null,
            "grid_column": null,
            "grid_gap": null,
            "grid_row": null,
            "grid_template_areas": null,
            "grid_template_columns": null,
            "grid_template_rows": null,
            "height": null,
            "justify_content": null,
            "justify_items": null,
            "left": null,
            "margin": null,
            "max_height": null,
            "max_width": null,
            "min_height": null,
            "min_width": null,
            "object_fit": null,
            "object_position": null,
            "order": null,
            "overflow": null,
            "overflow_x": null,
            "overflow_y": null,
            "padding": null,
            "right": null,
            "top": null,
            "visibility": null,
            "width": null
          }
        },
        "d67e73b6b97c4ce28bad6dd9af971e02": {
          "model_module": "@jupyter-widgets/controls",
          "model_module_version": "1.5.0",
          "model_name": "FloatProgressModel",
          "state": {
            "_dom_classes": [],
            "_model_module": "@jupyter-widgets/controls",
            "_model_module_version": "1.5.0",
            "_model_name": "FloatProgressModel",
            "_view_count": null,
            "_view_module": "@jupyter-widgets/controls",
            "_view_module_version": "1.5.0",
            "_view_name": "ProgressView",
            "bar_style": "success",
            "description": "",
            "description_tooltip": null,
            "layout": "IPY_MODEL_da25d616f23040c98222e7b87dac50cf",
            "max": 1000000,
            "min": 0,
            "orientation": "horizontal",
            "style": "IPY_MODEL_7bf157e1b80e41b59c8df5cadf598fe1",
            "value": 1000000
          }
        },
        "d8d11f220eca4bb3ad6edcf3e0912eeb": {
          "model_module": "@jupyter-widgets/controls",
          "model_module_version": "1.5.0",
          "model_name": "DescriptionStyleModel",
          "state": {
            "_model_module": "@jupyter-widgets/controls",
            "_model_module_version": "1.5.0",
            "_model_name": "DescriptionStyleModel",
            "_view_count": null,
            "_view_module": "@jupyter-widgets/base",
            "_view_module_version": "1.2.0",
            "_view_name": "StyleView",
            "description_width": ""
          }
        },
        "da25d616f23040c98222e7b87dac50cf": {
          "model_module": "@jupyter-widgets/base",
          "model_module_version": "1.2.0",
          "model_name": "LayoutModel",
          "state": {
            "_model_module": "@jupyter-widgets/base",
            "_model_module_version": "1.2.0",
            "_model_name": "LayoutModel",
            "_view_count": null,
            "_view_module": "@jupyter-widgets/base",
            "_view_module_version": "1.2.0",
            "_view_name": "LayoutView",
            "align_content": null,
            "align_items": null,
            "align_self": null,
            "border": null,
            "bottom": null,
            "display": null,
            "flex": null,
            "flex_flow": null,
            "grid_area": null,
            "grid_auto_columns": null,
            "grid_auto_flow": null,
            "grid_auto_rows": null,
            "grid_column": null,
            "grid_gap": null,
            "grid_row": null,
            "grid_template_areas": null,
            "grid_template_columns": null,
            "grid_template_rows": null,
            "height": null,
            "justify_content": null,
            "justify_items": null,
            "left": null,
            "margin": null,
            "max_height": null,
            "max_width": null,
            "min_height": null,
            "min_width": null,
            "object_fit": null,
            "object_position": null,
            "order": null,
            "overflow": null,
            "overflow_x": null,
            "overflow_y": null,
            "padding": null,
            "right": null,
            "top": null,
            "visibility": null,
            "width": null
          }
        },
        "f1680ba7d2cf40b4bf616e2760534008": {
          "model_module": "@jupyter-widgets/controls",
          "model_module_version": "1.5.0",
          "model_name": "DescriptionStyleModel",
          "state": {
            "_model_module": "@jupyter-widgets/controls",
            "_model_module_version": "1.5.0",
            "_model_name": "DescriptionStyleModel",
            "_view_count": null,
            "_view_module": "@jupyter-widgets/base",
            "_view_module_version": "1.2.0",
            "_view_name": "StyleView",
            "description_width": ""
          }
        }
      }
    }
  },
  "nbformat": 4,
  "nbformat_minor": 0
}
